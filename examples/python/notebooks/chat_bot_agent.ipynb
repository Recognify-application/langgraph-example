{
 "cells": [
  {
   "cell_type": "code",
   "execution_count": 1,
   "metadata": {},
   "outputs": [],
   "source": [
    "%%capture --no-stderr\n",
    "%pip install -U langgraph langchain-community langchain-anthropic tavily-python pandas pygithub"
   ]
  },
  {
   "cell_type": "code",
   "execution_count": 2,
   "metadata": {},
   "outputs": [
    {
     "name": "stdout",
     "output_type": "stream",
     "text": [
      "./private-key.pem\n"
     ]
    }
   ],
   "source": [
    "import getpass\n",
    "import os\n",
    "\n",
    "\n",
    "def _set_env(var: str):\n",
    "    if not os.environ.get(var):\n",
    "        os.environ[var] = getpass.getpass(f\"{var}: \")\n",
    "\n",
    "\n",
    "_set_env(\"ANTHROPIC_API_KEY\")\n",
    "_set_env(\"TAVILY_API_KEY\")\n",
    "_set_env(\"GITHUB_APP_ID\")\n",
    "_set_env(\"GITHUB_APP_PRIVATE_KEY\")\n",
    "_set_env(\"GITHUB_REPOSITORY\")\n",
    "\n",
    "# Recommended\n",
    "_set_env(\"LANGCHAIN_API_KEY\")\n",
    "os.environ[\"LANGCHAIN_TRACING_V2\"] = \"true\"\n",
    "os.environ[\"LANGCHAIN_PROJECT\"] = \"ekline-langgraph-api\"\n",
    "print(os.environ[\"GITHUB_APP_PRIVATE_KEY\"])"
   ]
  },
  {
   "cell_type": "code",
   "execution_count": 3,
   "metadata": {},
   "outputs": [],
   "source": [
    "from langchain_anthropic import ChatAnthropic\n",
    "from langchain_community.tools.tavily_search import TavilySearchResults\n",
    "from langchain_core.prompts import ChatPromptTemplate\n",
    "from langchain_core.runnables import Runnable, RunnableConfig\n",
    "from typing import Annotated\n",
    "import re\n",
    "from typing_extensions import TypedDict\n",
    "from langchain_community.agent_toolkits.github.toolkit import GitHubToolkit\n",
    "from langchain_community.utilities.github import GitHubAPIWrapper\n",
    "from langgraph.graph.message import AnyMessage, add_messages\n",
    "from langchain_core.tools import BaseTool\n",
    "from langgraph.checkpoint.sqlite import SqliteSaver\n",
    "from langgraph.graph import END, StateGraph\n",
    "from langgraph.prebuilt import ToolNode, tools_condition\n",
    "from langchain_core.runnables import RunnableLambda\n",
    "from langchain_core.messages import ToolMessage\n",
    "from langgraph.prebuilt import ToolNode\n",
    "\n",
    "def handle_tool_error(state) -> dict:\n",
    "    error = state.get(\"error\")\n",
    "    tool_calls = state[\"messages\"][-1].tool_calls\n",
    "    return {\n",
    "        \"messages\": [\n",
    "            ToolMessage(\n",
    "                content=f\"Error: {repr(error)}\\n please fix your mistakes.\",\n",
    "                tool_call_id=tc[\"id\"],\n",
    "            )\n",
    "            for tc in tool_calls\n",
    "        ]\n",
    "    }\n",
    "\n",
    "def create_tool_node_with_fallback(tools: list) -> dict:\n",
    "    return ToolNode(tools).with_fallbacks(\n",
    "        [RunnableLambda(handle_tool_error)], exception_key=\"error\"\n",
    "    )\n",
    "\n",
    "def _print_event(event: dict, _printed: set, max_length=1500):\n",
    "    current_state = event.get(\"dialog_state\")\n",
    "    if current_state:\n",
    "        print(f\"Currently in: \", current_state[-1])\n",
    "    message = event.get(\"messages\")\n",
    "    if message:\n",
    "        if isinstance(message, list):\n",
    "            message = message[-1]\n",
    "        if message.id not in _printed:\n",
    "            msg_repr = message.pretty_repr(html=True)\n",
    "            if len(msg_repr) > max_length:\n",
    "                msg_repr = msg_repr[:max_length] + \" ... (truncated)\"\n",
    "            print(msg_repr)\n",
    "            _printed.add(message.id)\n",
    "\n",
    "def convert_tools_name(tools) -> list[BaseTool]:\n",
    "\tfor tool in tools:\n",
    "\t\tinput_string = tool.name.lower()\n",
    "\t\tcleaned_string = re.sub(r'[^a-zA-Z0-9_-]+', ' ', input_string)\n",
    "\t\ttool.name = re.sub(r'\\s+', '_', cleaned_string).strip('_')\n",
    "\treturn tools\n",
    "\n",
    "searchTool = [TavilySearchResults(max_results=1)]\n",
    "github = GitHubAPIWrapper()\n",
    "toolkit = GitHubToolkit.from_github_api_wrapper(github)\n",
    "githubTools = convert_tools_name(toolkit.get_tools())\n"
   ]
  },
  {
   "cell_type": "code",
   "execution_count": 5,
   "metadata": {},
   "outputs": [],
   "source": [
    "class State(TypedDict):\n",
    "\tmessages: Annotated[list[AnyMessage], add_messages]\n",
    "\n",
    "class Assistant:\n",
    "\tdef __init__(self, runnable: Runnable):\n",
    "\t\tself.runnable = runnable\n",
    "\n",
    "\tdef __call__(self, state: State, config: RunnableConfig):\n",
    "\t\twhile True:\n",
    "\t\t\tissues = config.get(\"issues\", None)\n",
    "\t\t\tstate = {**state, \"issues\": issues}\n",
    "\t\t\tresult = self.runnable.invoke(state)\n",
    "\t\t\t# If the LLM happens to return an empty response, we will re-prompt it\n",
    "\t\t\t# for an actual response.\n",
    "\t\t\tif not result.tool_calls and (\n",
    "\t\t\t\tnot result.content\n",
    "\t\t\t\tor isinstance(result.content, list)\n",
    "\t\t\t\tand not result.content[0].get(\"text\")\n",
    "\t\t\t):\n",
    "\t\t\t\tmessages = state[\"messages\"] + [(\"user\", \"Respond with a real output.\")]\n",
    "\t\t\t\tstate = {**state, \"messages\": messages}\n",
    "\t\t\telse:\n",
    "\t\t\t\tbreak\n",
    "\t\treturn {\"messages\": result}\n",
    "\n",
    "\n",
    "# Haiku is faster and cheaper, but less accurate\n",
    "# llm = ChatAnthropic(model=\"claude-3-haiku-20240307\")\n",
    "llm = ChatAnthropic(model=\"claude-3-sonnet-20240229\", temperature=1)\n",
    "# You could swap LLMs, though you will likely want to update the prompts when\n",
    "# doing so!\n",
    "# from langchain_openai import ChatOpenAI\n",
    "\n",
    "# llm = ChatOpenAI(model=\"gpt-4-turbo-preview\")\n",
    "\n",
    "primary_assistant_prompt = ChatPromptTemplate.from_messages(\n",
    "    [\n",
    "        (\n",
    "            \"system\",\n",
    "            \"You are a helpful support assistant for ekline, the company, products. \"\n",
    "            \" Use the provided github tools that can search for issues, comments on issues, solve issues, create PRs in a repositories to assist the user's queries. \"\n",
    "            \" When searching, be persistent. Expand your query bounds if the first search returns no results. \"\n",
    "            \" If a search comes up empty, expand your search before giving up.\"\n",
    "\t\t\t\t\t\t\"issues:{issues}\"\n",
    "        ),\n",
    "        (\"placeholder\", \"{messages}\")\n",
    "    ]\n",
    ")\n",
    "part_1_tools = (searchTool + githubTools)\n",
    "part_1_assistant_runnable = primary_assistant_prompt | llm.bind_tools(part_1_tools)\n",
    "\n",
    "builder = StateGraph(State)"
   ]
  },
  {
   "cell_type": "code",
   "execution_count": 6,
   "metadata": {},
   "outputs": [],
   "source": [
    "builder.add_node(\"assistant\", Assistant(part_1_assistant_runnable))\n",
    "builder.add_node(\"tools\", create_tool_node_with_fallback(part_1_tools))\n",
    "# Define edges: these determine how the control flow moves\n",
    "builder.set_entry_point(\"assistant\")\n",
    "builder.add_conditional_edges(\n",
    "    \"assistant\",\n",
    "    tools_condition,\n",
    ")\n",
    "builder.add_edge(\"tools\", \"assistant\")\n",
    "\n",
    "# The checkpointer lets the graph persist its state\n",
    "# this is a complete memory for the entire graph.\n",
    "memory = SqliteSaver.from_conn_string(\":memory:\")\n",
    "part_1_graph = builder.compile(checkpointer=memory)"
   ]
  },
  {
   "cell_type": "code",
   "execution_count": 7,
   "metadata": {},
   "outputs": [
    {
     "data": {
      "image/jpeg": "[encoded data removed]",
      "text/plain": [
       "<IPython.core.display.Image object>"
      ]
     },
     "metadata": {},
     "output_type": "display_data"
    }
   ],
   "source": [
    "from IPython.display import Image, display\n",
    "\n",
    "try:\n",
    "    display(Image(part_1_graph.get_graph(xray=True).draw_mermaid_png()))\n",
    "except:\n",
    "    # This requires some extra dependencies and is optional\n",
    "    pass"
   ]
  },
  {
   "cell_type": "code",
   "execution_count": 8,
   "metadata": {},
   "outputs": [
    {
     "name": "stdout",
     "output_type": "stream",
     "text": [
      "Found 1 issues:\n",
      "[{'title': 'Update ReadMe file', 'number': 3, 'opened_by': 'rahilvora'}]\n"
     ]
    }
   ],
   "source": [
    "print(github.get_issues())"
   ]
  },
  {
   "cell_type": "code",
   "execution_count": 13,
   "metadata": {},
   "outputs": [
    {
     "name": "stdout",
     "output_type": "stream",
     "text": [
      "================================\u001b[1m Human Message \u001b[0m=================================\n",
      "\n",
      "How many open issues are present in the repository\n",
      "==================================\u001b[1m Ai Message \u001b[0m==================================\n",
      "\n",
      "[{'id': 'toolu_016pz1kcxtFXL6rKrwpqCTsk', 'input': {'no_input': ' '}, 'name': 'get_issues', 'type': 'tool_use'}]\n",
      "Tool Calls:\n",
      "  get_issues (toolu_016pz1kcxtFXL6rKrwpqCTsk)\n",
      " Call ID: toolu_016pz1kcxtFXL6rKrwpqCTsk\n",
      "  Args:\n",
      "    no_input:\n",
      "=================================\u001b[1m Tool Message \u001b[0m=================================\n",
      "\n",
      "Error: TypeError(\"GitHubAction._run() got an unexpected keyword argument 'no_input'\")\n",
      " please fix your mistakes.\n",
      "==================================\u001b[1m Ai Message \u001b[0m==================================\n",
      "\n",
      "[{'text': \"Oops, it looks like that tool doesn't require any input parameters. Let me try again without passing any parameters:\", 'type': 'text'}, {'id': 'toolu_01F4pZJXse8bwTMq77zqcJEV', 'input': {}, 'name': 'get_issues', 'type': 'tool_use'}]\n",
      "Tool Calls:\n",
      "  get_issues (toolu_01F4pZJXse8bwTMq77zqcJEV)\n",
      " Call ID: toolu_01F4pZJXse8bwTMq77zqcJEV\n",
      "  Args:\n",
      "=================================\u001b[1m Tool Message \u001b[0m=================================\n",
      "Name: get_issues\n",
      "\n",
      "Found 2 issues:\n",
      "[{'title': 'One more test issue', 'number': 4, 'opened_by': 'rahilvora'}, {'title': 'Update ReadMe file', 'number': 3, 'opened_by': 'rahilvora'}]\n",
      "==================================\u001b[1m Ai Message \u001b[0m==================================\n",
      "\n",
      "So there are currently 2 open issues in this repository based on the results from the \"get_issues\" tool.\n"
     ]
    }
   ],
   "source": [
    "import uuid\n",
    "\n",
    "# Let's create an example conversation a user might have with the assistant\n",
    "tutorial_questions = [\n",
    "    \"How many open issues are present in the repository\",\n",
    "]\n",
    "\n",
    "thread_id = str(uuid.uuid4())\n",
    "\n",
    "config = {\n",
    "    \"configurable\": {\n",
    "        # Checkpoints are accessed by thread_id\n",
    "        \"thread_id\": thread_id,\n",
    "        \"issues\": github.get_issues()\n",
    "    }\n",
    "}\n",
    "# print(part_1_graph.get_state(config=config))\n",
    "\n",
    "_printed = set()\n",
    "for question in tutorial_questions:\n",
    "    events = part_1_graph.stream(\n",
    "        {\"messages\": (\"user\", question)}, config, stream_mode=\"values\"\n",
    "    )\n",
    "    for event in events:\n",
    "        _print_event(event, _printed)"
   ]
  }
 ],
 "metadata": {
  "kernelspec": {
   "display_name": "Python 3",
   "language": "python",
   "name": "python3"
  },
  "language_info": {
   "codemirror_mode": {
    "name": "ipython",
    "version": 3
   },
   "file_extension": ".py",
   "mimetype": "text/x-python",
   "name": "python",
   "nbconvert_exporter": "python",
   "pygments_lexer": "ipython3",
   "version": "3.11.9"
  }
 },
 "nbformat": 4,
 "nbformat_minor": 2
}
